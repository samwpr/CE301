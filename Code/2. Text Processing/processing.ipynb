{
 "cells": [
  {
   "cell_type": "code",
   "execution_count": 1,
   "metadata": {},
   "outputs": [],
   "source": [
    "from xml.dom.minidom import Element\n",
    "from PIL import Image\n",
    "import pytesseract\n",
    "from wand.image import Image as Img\n",
    "import nltk\n",
    "from nltk.tokenize import word_tokenize\n",
    "from nltk.tag import pos_tag\n",
    "import numpy as np\n",
    "import os\n",
    "import cv2\n",
    "import re\n",
    "from distutils import core\n",
    "from collections import defaultdict\n",
    "import gspread\n",
    "import time\n",
    "import pandas as pd"
   ]
  },
  {
   "cell_type": "code",
   "execution_count": 2,
   "metadata": {},
   "outputs": [],
   "source": [
    "extracted_text = ['SAT, IU SEY <Uee', '', 'RIVERSIDE GRILLED FISH SINGAPORE SG >', 'Dining', 'sep -74.15', 'WHITE RESTAURANT SINGAPORE SG >', 'Dining', 'scp -34.60', 'HYPER VIVO SINGAPORE SG >', 'Shopping', 'scp -9.65', '', 'FRI, 09 SEP 2022', '', 'CARD SHACK SINGAPORE SG >', 'Shopping', 'scp -8.88', 'LITTLE ROGUE COFFEE SINGAPORE SG >', 'Dining', 'sep -40.70', 'REINVENT VENTURES SINGAPORE SG >', 'Shopping', 'sco -5.00', '', 'REINVENT VENTURES SINGAPORE SG >', 'Jul) © Aug { sep ] Oct )( Nov )( Current ) | t', '', 'SGD -1.3U0', 'NET*LINCO SINGAPORE SG >', 'Dining', '', 'sop -1.70', 'NET*LINCO SINGAPORE SG >', 'Dining', '', 'sop -1.20', 'NET*LINCO SINGAPORE SG 2', 'Dining', '', 'scp -1.20', 'TUE, 06 SEP 2022', 'BUS/MRT 179030552 SINGAPORE SG >', 'Transportation', '', 'sep -2.82', 'NET*LINCO SINGAPORE SG >', 'Dining', '', 'scp -1.30', 'NET*LINCO SINGAPORE SG >', 'Dining', 'Jul) © Aug { sep ] Oct )( Nov) Current ) | t', '', 'NET*LINCO SINGAPORE SG >', '', 'Dining', 'sop -1.20', 'SUN, 04 SEP 2022', '', 'BUS/MRT 178475165 SINGAPORE SG >', '', 'Transportation', '', 'sop -1.90', '', 'SAT, 03 SEP 2022', '', 'BUS/MRT 178160838 SINGAPORE SG >', 'Transportation', '', 'sop -2.23', 'WHITE RESTAURANT SINGAPORE SG >', 'Dining', '', 'scp -39.90', '', \"WATSON'S SINGAPORE SG >\", 'Health & Fitness', '', 'scp -2.50', 'PET LOVERS CENTRE PTE SINGAPORE SG 7', '', 'Shopping', 'Jul) ( Aug { sep ] Oct )( Nov )( Current ) | t', '', 'vining', '', 'scp -40.70', 'REINVENT VENTURES SINGAPORE SG >', 'Shopping', 'scp -5.00', 'REINVENT VENTURES SINGAPORE SG >', 'Shopping', 'scp -6.93', 'THU, 08 SEP 2022', 'PET LOVERS CENTRE PTE SINGAPORE SG >', 'Shopping', 'sep -47.25', 'NET*LINCO SINGAPORE SG >', 'Dining', 'sop -1.30', 'WED, 07 SEP 2022', 'BUS/MRT 179244836 SINGAPORE SG >', '', 'Transportation', '', 'scp -2.82']"
   ]
  },
  {
   "cell_type": "code",
   "execution_count": 3,
   "metadata": {},
   "outputs": [],
   "source": [
    "#Regex \n",
    "date_pattern = re.compile(r'^(?:MON|TUE|WED|THU|FRI|SAT|SUN), (.|..) (?:JAN|FEB|MAR|APR|MAY|JUN|JUL|AUG|SEP|OCT|NOV|DEC) (?:2022|2023)$')\n",
    "amount_pattern = re.compile(r'\\d*,*\\d*\\.\\d*')"
   ]
  },
  {
   "attachments": {},
   "cell_type": "markdown",
   "metadata": {},
   "source": [
    "Remove any items before the first date as transactions only come after dates"
   ]
  },
  {
   "cell_type": "code",
   "execution_count": 4,
   "metadata": {},
   "outputs": [],
   "source": [
    "firstDateIndex = None\n",
    "for index, element in enumerate(extracted_text):\n",
    "    if date_pattern.match(element):\n",
    "        firstDateIndex = index\n",
    "        break"
   ]
  },
  {
   "cell_type": "code",
   "execution_count": 5,
   "metadata": {},
   "outputs": [
    {
     "name": "stdout",
     "output_type": "stream",
     "text": [
      "['FRI, 09 SEP 2022', '', 'CARD SHACK SINGAPORE SG >', 'Shopping', 'scp -8.88', 'LITTLE ROGUE COFFEE SINGAPORE SG >', 'Dining', 'sep -40.70', 'REINVENT VENTURES SINGAPORE SG >', 'Shopping', 'sco -5.00', '', 'REINVENT VENTURES SINGAPORE SG >', 'Jul) © Aug { sep ] Oct )( Nov )( Current ) | t', '', 'SGD -1.3U0', 'NET*LINCO SINGAPORE SG >', 'Dining', '', 'sop -1.70', 'NET*LINCO SINGAPORE SG >', 'Dining', '', 'sop -1.20', 'NET*LINCO SINGAPORE SG 2', 'Dining', '', 'scp -1.20', 'TUE, 06 SEP 2022', 'BUS/MRT 179030552 SINGAPORE SG >', 'Transportation', '', 'sep -2.82', 'NET*LINCO SINGAPORE SG >', 'Dining', '', 'scp -1.30', 'NET*LINCO SINGAPORE SG >', 'Dining', 'Jul) © Aug { sep ] Oct )( Nov) Current ) | t', '', 'NET*LINCO SINGAPORE SG >', '', 'Dining', 'sop -1.20', 'SUN, 04 SEP 2022', '', 'BUS/MRT 178475165 SINGAPORE SG >', '', 'Transportation', '', 'sop -1.90', '', 'SAT, 03 SEP 2022', '', 'BUS/MRT 178160838 SINGAPORE SG >', 'Transportation', '', 'sop -2.23', 'WHITE RESTAURANT SINGAPORE SG >', 'Dining', '', 'scp -39.90', '', \"WATSON'S SINGAPORE SG >\", 'Health & Fitness', '', 'scp -2.50', 'PET LOVERS CENTRE PTE SINGAPORE SG 7', '', 'Shopping', 'Jul) ( Aug { sep ] Oct )( Nov )( Current ) | t', '', 'vining', '', 'scp -40.70', 'REINVENT VENTURES SINGAPORE SG >', 'Shopping', 'scp -5.00', 'REINVENT VENTURES SINGAPORE SG >', 'Shopping', 'scp -6.93', 'THU, 08 SEP 2022', 'PET LOVERS CENTRE PTE SINGAPORE SG >', 'Shopping', 'sep -47.25', 'NET*LINCO SINGAPORE SG >', 'Dining', 'sop -1.30', 'WED, 07 SEP 2022', 'BUS/MRT 179244836 SINGAPORE SG >', '', 'Transportation', '', 'scp -2.82']\n"
     ]
    }
   ],
   "source": [
    "clean_extracted_text = extracted_text[firstDateIndex: len(extracted_text)]\n",
    "print(clean_extracted_text)"
   ]
  },
  {
   "cell_type": "code",
   "execution_count": 6,
   "metadata": {},
   "outputs": [
    {
     "name": "stdout",
     "output_type": "stream",
     "text": [
      "['scp -8.88', 'sep -40.70', 'sco -5.00', 'SGD -1.3U0', 'sop -1.70', 'sop -1.20', 'scp -1.20', 'sep -2.82', 'scp -1.30', 'sop -1.20', 'sop -1.90', 'sop -2.23', 'scp -39.90', 'scp -2.50', 'scp -40.70', 'scp -5.00', 'scp -6.93', 'sep -47.25', 'sop -1.30', 'scp -2.82']\n"
     ]
    }
   ],
   "source": [
    "indexOfDates = []\n",
    "dates = []\n",
    "indexOfPrices = []\n",
    "prices = []\n",
    "indexOfTransactions = []\n",
    "trans = []\n",
    "\n",
    "for index, element in enumerate(clean_extracted_text):\n",
    "    if date_pattern.match(element):\n",
    "        indexOfDates.append(index)\n",
    "        dates.append(element)\n",
    "    if amount_pattern.search(element):\n",
    "        indexOfPrices.append(index)\n",
    "        prices.append(element)\n",
    "    if bool(date_pattern.match(element)) == False and bool(amount_pattern.search(element)) == False and element != '':\n",
    "        indexOfTransactions.append(index)\n",
    "        trans.append(element)\n",
    "\n",
    "print(list(prices))"
   ]
  },
  {
   "cell_type": "markdown",
   "metadata": {},
   "source": [
    "Removing text from front of amount"
   ]
  },
  {
   "cell_type": "code",
   "execution_count": 7,
   "metadata": {},
   "outputs": [
    {
     "name": "stdout",
     "output_type": "stream",
     "text": [
      "20\n",
      "20\n",
      "['(8.88)', '(40.70)', '(sco -5.00)', '(SGD -1.3U0)', '(sop -1.70)', '(sop -1.20)', '(1.20)', '(2.82)', '(1.30)', '(sop -1.20)', '(sop -1.90)', '(sop -2.23)', '(39.90)', '(2.50)', '(40.70)', '(5.00)', '(6.93)', '(47.25)', '(sop -1.30)', '(2.82)']\n"
     ]
    }
   ],
   "source": [
    "credit_or_debit = []\n",
    "amountList = []\n",
    "\n",
    "positive_pattern = re.compile(r'\\+')\n",
    "negative_pattern = re.compile(r'\\-')\n",
    "dollars_pattern = re.compile(r'(\\d+?,?\\d+\\.\\d+)')\n",
    "text_pattern = re.compile(r'(scp|sep)\\s(\\-|\\+)')\n",
    "\n",
    "for i in prices:\n",
    "    if positive_pattern.search(i):\n",
    "        credit_or_debit.append('credit')\n",
    "        i = re.sub(text_pattern, '', i)\n",
    "        amountList.append(i)\n",
    "    if negative_pattern.search(i):\n",
    "        credit_or_debit.append('debit')\n",
    "        i = re.sub(text_pattern, '', i)\n",
    "        amountList.append(\"(\"+i+\")\")\n",
    "\n",
    "print(len(credit_or_debit))\n",
    "print(len(amountList))\n",
    "print(amountList)"
   ]
  },
  {
   "attachments": {},
   "cell_type": "markdown",
   "metadata": {},
   "source": [
    "Make multiple strings of one transaction into a single string"
   ]
  },
  {
   "cell_type": "code",
   "execution_count": 8,
   "metadata": {},
   "outputs": [
    {
     "name": "stdout",
     "output_type": "stream",
     "text": [
      "['card shack singapore sg >shopping', 'little rogue coffee singapore sg >dining', 'reinvent ventures singapore sg >shopping', 'reinvent ventures singapore sg >jul) © aug { sep ] oct )( nov )( current ) | t', 'net*linco singapore sg >dining', 'net*linco singapore sg >dining', 'net*linco singapore sg 2dining', 'bus/mrt 179030552 singapore sg >transportation', 'net*linco singapore sg >dining', 'net*linco singapore sg >diningjul) © aug { sep ] oct )( nov) current ) | tnet*linco singapore sg >dining', 'bus/mrt 178475165 singapore sg >transportation', 'bus/mrt 178160838 singapore sg >transportation', 'white restaurant singapore sg >dining', \"watson's singapore sg >health & fitness\", 'pet lovers centre pte singapore sg 7shoppingjul) ( aug { sep ] oct )( nov )( current ) | tvining', 'reinvent ventures singapore sg >shopping', 'reinvent ventures singapore sg >shopping', 'pet lovers centre pte singapore sg >shopping', 'net*linco singapore sg >dining', 'bus/mrt 179244836 singapore sg >transportation']\n"
     ]
    }
   ],
   "source": [
    "#Joining separate transactions\n",
    "newTransIndex =[]\n",
    "joinedTrans = []\n",
    "placeholderTransIndex = 0\n",
    "\n",
    "for i in indexOfPrices:\n",
    "    combinedLine = \"\"\n",
    "    for index, element in enumerate(clean_extracted_text):\n",
    "        if bool(date_pattern.match(element)) == False and bool(amount_pattern.search(element)) == False and element != '' and index < i and index > placeholderTransIndex:\n",
    "            combinedLine += element.lower()\n",
    "    joinedTrans.append(combinedLine)\n",
    "    newTransIndex.append(i - 1)\n",
    "    placeholderTransIndex = i - 1\n",
    "\n",
    "print(joinedTrans)\n"
   ]
  },
  {
   "cell_type": "code",
   "execution_count": 9,
   "metadata": {},
   "outputs": [],
   "source": [
    "#Create dict for dates and its indexes  \n",
    "datesCopy = dates.copy()\n",
    "dateDict = {}\n",
    "for key in indexOfDates:\n",
    "    for value in datesCopy:\n",
    "        dateDict[key] = value\n",
    "        datesCopy.remove(value)\n",
    "        break"
   ]
  },
  {
   "cell_type": "code",
   "execution_count": 10,
   "metadata": {},
   "outputs": [
    {
     "name": "stdout",
     "output_type": "stream",
     "text": [
      "20\n",
      "20\n",
      "20\n",
      "Original Extracted Text ---  ['SAT, IU SEY <Uee', '', 'RIVERSIDE GRILLED FISH SINGAPORE SG >', 'Dining', 'sep -74.15', 'WHITE RESTAURANT SINGAPORE SG >', 'Dining', 'scp -34.60', 'HYPER VIVO SINGAPORE SG >', 'Shopping', 'scp -9.65', '', 'FRI, 09 SEP 2022', '', 'CARD SHACK SINGAPORE SG >', 'Shopping', 'scp -8.88', 'LITTLE ROGUE COFFEE SINGAPORE SG >', 'Dining', 'sep -40.70', 'REINVENT VENTURES SINGAPORE SG >', 'Shopping', 'sco -5.00', '', 'REINVENT VENTURES SINGAPORE SG >', 'Jul) © Aug { sep ] Oct )( Nov )( Current ) | t', '', 'SGD -1.3U0', 'NET*LINCO SINGAPORE SG >', 'Dining', '', 'sop -1.70', 'NET*LINCO SINGAPORE SG >', 'Dining', '', 'sop -1.20', 'NET*LINCO SINGAPORE SG 2', 'Dining', '', 'scp -1.20', 'TUE, 06 SEP 2022', 'BUS/MRT 179030552 SINGAPORE SG >', 'Transportation', '', 'sep -2.82', 'NET*LINCO SINGAPORE SG >', 'Dining', '', 'scp -1.30', 'NET*LINCO SINGAPORE SG >', 'Dining', 'Jul) © Aug { sep ] Oct )( Nov) Current ) | t', '', 'NET*LINCO SINGAPORE SG >', '', 'Dining', 'sop -1.20', 'SUN, 04 SEP 2022', '', 'BUS/MRT 178475165 SINGAPORE SG >', '', 'Transportation', '', 'sop -1.90', '', 'SAT, 03 SEP 2022', '', 'BUS/MRT 178160838 SINGAPORE SG >', 'Transportation', '', 'sop -2.23', 'WHITE RESTAURANT SINGAPORE SG >', 'Dining', '', 'scp -39.90', '', \"WATSON'S SINGAPORE SG >\", 'Health & Fitness', '', 'scp -2.50', 'PET LOVERS CENTRE PTE SINGAPORE SG 7', '', 'Shopping', 'Jul) ( Aug { sep ] Oct )( Nov )( Current ) | t', '', 'vining', '', 'scp -40.70', 'REINVENT VENTURES SINGAPORE SG >', 'Shopping', 'scp -5.00', 'REINVENT VENTURES SINGAPORE SG >', 'Shopping', 'scp -6.93', 'THU, 08 SEP 2022', 'PET LOVERS CENTRE PTE SINGAPORE SG >', 'Shopping', 'sep -47.25', 'NET*LINCO SINGAPORE SG >', 'Dining', 'sop -1.30', 'WED, 07 SEP 2022', 'BUS/MRT 179244836 SINGAPORE SG >', '', 'Transportation', '', 'scp -2.82']\n",
      "\n",
      "['card shack singapore sg >shopping', 'little rogue coffee singapore sg >dining', 'reinvent ventures singapore sg >shopping', 'reinvent ventures singapore sg >jul) © aug { sep ] oct )( nov )( current ) | t', 'net*linco singapore sg >dining', 'net*linco singapore sg >dining', 'net*linco singapore sg 2dining', 'bus/mrt 179030552 singapore sg >transportation', 'net*linco singapore sg >dining', 'net*linco singapore sg >diningjul) © aug { sep ] oct )( nov) current ) | tnet*linco singapore sg >dining', 'bus/mrt 178475165 singapore sg >transportation', 'bus/mrt 178160838 singapore sg >transportation', 'white restaurant singapore sg >dining', \"watson's singapore sg >health & fitness\", 'pet lovers centre pte singapore sg 7shoppingjul) ( aug { sep ] oct )( nov )( current ) | tvining', 'reinvent ventures singapore sg >shopping', 'reinvent ventures singapore sg >shopping', 'pet lovers centre pte singapore sg >shopping', 'net*linco singapore sg >dining', 'bus/mrt 179244836 singapore sg >transportation']\n",
      "\n",
      "['(8.88)', '(40.70)', '(sco -5.00)', '(SGD -1.3U0)', '(sop -1.70)', '(sop -1.20)', '(1.20)', '(2.82)', '(1.30)', '(sop -1.20)', '(sop -1.90)', '(sop -2.23)', '(39.90)', '(2.50)', '(40.70)', '(5.00)', '(6.93)', '(47.25)', '(sop -1.30)', '(2.82)']\n",
      "\n",
      "['FRI, 09 SEP 2022', 'FRI, 09 SEP 2022', 'FRI, 09 SEP 2022', 'FRI, 09 SEP 2022', 'FRI, 09 SEP 2022', 'FRI, 09 SEP 2022', 'FRI, 09 SEP 2022', 'TUE, 06 SEP 2022', 'TUE, 06 SEP 2022', 'TUE, 06 SEP 2022', 'SUN, 04 SEP 2022', 'SAT, 03 SEP 2022', 'SAT, 03 SEP 2022', 'SAT, 03 SEP 2022', 'SAT, 03 SEP 2022', 'SAT, 03 SEP 2022', 'SAT, 03 SEP 2022', 'THU, 08 SEP 2022', 'THU, 08 SEP 2022', 'WED, 07 SEP 2022']\n"
     ]
    }
   ],
   "source": [
    "#Matching dates to transactions\n",
    "listDates = []\n",
    "minDate = indexOfDates[0]\n",
    "nextDate = indexOfDates[0]\n",
    "\n",
    "for i in range(0, len(indexOfPrices)):\n",
    "    if indexOfPrices[i] > indexOfDates[-1]:\n",
    "        listDates.append(dateDict[indexOfDates[-1]])\n",
    "    for j in range(0, len(indexOfDates) -1):\n",
    "        if indexOfPrices[i] > indexOfDates[j + 1]:\n",
    "            minDate = indexOfDates[j + 1]\n",
    "        if indexOfPrices[i] < indexOfDates[j + 1] and indexOfPrices[i] > minDate:\n",
    "            listDates.append(dateDict[minDate])\n",
    "            nextDate = indexOfDates[j + 1]\n",
    "            break;\n",
    "\n",
    "\n",
    "if len(newTransIndex) == len(indexOfPrices) == len(listDates) == len(credit_or_debit) == len(amountList):\n",
    "    pass\n",
    "else: \n",
    "    print(\"number of records are not the same\")\n",
    "\n",
    "\n",
    "#Check the items in each list matches \n",
    "print(len(newTransIndex))\n",
    "print(len(indexOfPrices))\n",
    "print(len(listDates))\n",
    "\n",
    "print(\"Original Extracted Text --- \", extracted_text)\n",
    "print(\"\")\n",
    "print(joinedTrans)\n",
    "print(\"\")\n",
    "print(amountList)\n",
    "print(\"\")\n",
    "print(listDates)\n"
   ]
  },
  {
   "cell_type": "code",
   "execution_count": null,
   "metadata": {},
   "outputs": [],
   "source": []
  }
 ],
 "metadata": {
  "kernelspec": {
   "display_name": "Python 3",
   "language": "python",
   "name": "python3"
  },
  "language_info": {
   "codemirror_mode": {
    "name": "ipython",
    "version": 3
   },
   "file_extension": ".py",
   "mimetype": "text/x-python",
   "name": "python",
   "nbconvert_exporter": "python",
   "pygments_lexer": "ipython3",
   "version": "3.10.5"
  },
  "orig_nbformat": 4,
  "vscode": {
   "interpreter": {
    "hash": "aee8b7b246df8f9039afb4144a1f6fd8d2ca17a180786b69acc140d282b71a49"
   }
  }
 },
 "nbformat": 4,
 "nbformat_minor": 2
}

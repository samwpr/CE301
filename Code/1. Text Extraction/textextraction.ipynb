{
 "cells": [
  {
   "cell_type": "code",
   "execution_count": 1,
   "metadata": {},
   "outputs": [],
   "source": [
    "from PIL import Image\n",
    "import pytesseract\n",
    "from wand.image import Image as Img\n",
    "import os\n",
    "import cv2"
   ]
  },
  {
   "cell_type": "code",
   "execution_count": 2,
   "metadata": {},
   "outputs": [],
   "source": [
    "frames = 'frames'"
   ]
  },
  {
   "cell_type": "code",
   "execution_count": 3,
   "metadata": {},
   "outputs": [],
   "source": [
    "def files():\n",
    "    try:\n",
    "        os.remove(frames)\n",
    "    except OSError:\n",
    "        pass\n",
    "\n",
    "    if not os.path.exists(frames):\n",
    "        os.makedirs(frames)\n",
    "\n",
    "    # Specify the source video path\n",
    "    src_vid = cv2.VideoCapture('test1.mp4')\n",
    "    return(src_vid)"
   ]
  },
  {
   "cell_type": "code",
   "execution_count": 4,
   "metadata": {},
   "outputs": [],
   "source": [
    "def process(src_vid):\n",
    "    #Use an index to integer-name the files\n",
    "    index = 0\n",
    "    while src_vid.isOpened():\n",
    "        ret, frame = src_vid.read()\n",
    "        if not ret:\n",
    "            break\n",
    "        name = './frames/frame' + str(index) + '.png'\n",
    "\n",
    "        if index % 200 == 0:\n",
    "            print('Extracting frames: ' + name)\n",
    "            cv2.imwrite(name, frame)\n",
    "        index = index + 1\n",
    "\n",
    "        if cv2.waitKey(10) % 0xFF == ord('q'):\n",
    "            breakpoint\n",
    "    \n",
    "    src_vid.release()\n",
    "    cv2.destroyAllWindows()"
   ]
  },
  {
   "cell_type": "code",
   "execution_count": 5,
   "metadata": {},
   "outputs": [],
   "source": [
    "text = \"\"\n",
    "def get_text():\n",
    "    global text, list\n",
    "    for i in os.listdir(frames):\n",
    "        #print(str(i))\n",
    "        my_example = Image.open(frames + \"/\" + i)\n",
    "        text += pytesseract.image_to_string(my_example, lang='eng')"
   ]
  },
  {
   "cell_type": "code",
   "execution_count": 6,
   "metadata": {},
   "outputs": [],
   "source": [
    "def ConvertToList(text):\n",
    "    #c1 = \"4119\"\n",
    "    #c2 = \"3773\"\n",
    "    li = text.splitlines()\n",
    "\n",
    "    return li"
   ]
  },
  {
   "cell_type": "code",
   "execution_count": 7,
   "metadata": {},
   "outputs": [
    {
     "name": "stdout",
     "output_type": "stream",
     "text": [
      "Extracting frames: ./frames/frame0.png\n",
      "Extracting frames: ./frames/frame200.png\n",
      "Extracting frames: ./frames/frame400.png\n",
      "Extracting frames: ./frames/frame600.png\n",
      "['SAT, IU SEY <Uee', '', 'RIVERSIDE GRILLED FISH SINGAPORE SG >', 'Dining', 'sep -74.15', 'WHITE RESTAURANT SINGAPORE SG >', 'Dining', 'scp -34.60', 'HYPER VIVO SINGAPORE SG >', 'Shopping', 'scp -9.65', '', 'FRI, 09 SEP 2022', '', 'CARD SHACK SINGAPORE SG >', 'Shopping', 'scp -8.88', 'LITTLE ROGUE COFFEE SINGAPORE SG >', 'Dining', 'sep -40.70', 'REINVENT VENTURES SINGAPORE SG >', 'Shopping', 'sco -5.00', '', 'REINVENT VENTURES SINGAPORE SG >', 'Jul) © Aug { sep ] Oct )( Nov )( Current ) | t', '', 'SGD -1.3U0', 'NET*LINCO SINGAPORE SG >', 'Dining', '', 'sop -1.70', 'NET*LINCO SINGAPORE SG >', 'Dining', '', 'sop -1.20', 'NET*LINCO SINGAPORE SG 2', 'Dining', '', 'scp -1.20', 'TUE, 06 SEP 2022', 'BUS/MRT 179030552 SINGAPORE SG >', 'Transportation', '', 'sep -2.82', 'NET*LINCO SINGAPORE SG >', 'Dining', '', 'scp -1.30', 'NET*LINCO SINGAPORE SG >', 'Dining', 'Jul) © Aug { sep ] Oct )( Nov) Current ) | t', '', 'NET*LINCO SINGAPORE SG >', '', 'Dining', 'sop -1.20', 'SUN, 04 SEP 2022', '', 'BUS/MRT 178475165 SINGAPORE SG >', '', 'Transportation', '', 'sop -1.90', '', 'SAT, 03 SEP 2022', '', 'BUS/MRT 178160838 SINGAPORE SG >', 'Transportation', '', 'sop -2.23', 'WHITE RESTAURANT SINGAPORE SG >', 'Dining', '', 'scp -39.90', '', \"WATSON'S SINGAPORE SG >\", 'Health & Fitness', '', 'scp -2.50', 'PET LOVERS CENTRE PTE SINGAPORE SG 7', '', 'Shopping', 'Jul) ( Aug { sep ] Oct )( Nov )( Current ) | t', '', 'vining', '', 'scp -40.70', 'REINVENT VENTURES SINGAPORE SG >', 'Shopping', 'scp -5.00', 'REINVENT VENTURES SINGAPORE SG >', 'Shopping', 'scp -6.93', 'THU, 08 SEP 2022', 'PET LOVERS CENTRE PTE SINGAPORE SG >', 'Shopping', 'sep -47.25', 'NET*LINCO SINGAPORE SG >', 'Dining', 'sop -1.30', 'WED, 07 SEP 2022', 'BUS/MRT 179244836 SINGAPORE SG >', '', 'Transportation', '', 'scp -2.82']\n"
     ]
    }
   ],
   "source": [
    "vid = files()\n",
    "process(vid)\n",
    "get_text()\n",
    "extracted_text = ConvertToList(text)\n",
    "print(extracted_text)"
   ]
  }
 ],
 "metadata": {
  "kernelspec": {
   "display_name": "Python 3",
   "language": "python",
   "name": "python3"
  },
  "language_info": {
   "codemirror_mode": {
    "name": "ipython",
    "version": 3
   },
   "file_extension": ".py",
   "mimetype": "text/x-python",
   "name": "python",
   "nbconvert_exporter": "python",
   "pygments_lexer": "ipython3",
   "version": "3.10.5"
  },
  "orig_nbformat": 4,
  "vscode": {
   "interpreter": {
    "hash": "aee8b7b246df8f9039afb4144a1f6fd8d2ca17a180786b69acc140d282b71a49"
   }
  }
 },
 "nbformat": 4,
 "nbformat_minor": 2
}
